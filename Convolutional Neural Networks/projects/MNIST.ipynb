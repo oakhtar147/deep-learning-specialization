{
  "nbformat": 4,
  "nbformat_minor": 0,
  "metadata": {
    "colab": {
      "name": "MNIST.ipynb",
      "provenance": []
    },
    "kernelspec": {
      "name": "python3",
      "display_name": "Python 3"
    },
    "accelerator": "GPU"
  },
  "cells": [
    {
      "cell_type": "code",
      "metadata": {
        "id": "pKH7azoikn4h",
        "colab_type": "code",
        "colab": {}
      },
      "source": [
        "import tensorflow as tf\n",
        "from tensorflow import keras\n",
        "import numpy as np\n",
        "from matplotlib import pyplot as plt \n",
        "\n",
        "%matplotlib inline"
      ],
      "execution_count": 1,
      "outputs": []
    },
    {
      "cell_type": "code",
      "metadata": {
        "id": "TRlVTEp8kuQO",
        "colab_type": "code",
        "colab": {
          "base_uri": "https://localhost:8080/",
          "height": 50
        },
        "outputId": "62b57de8-4938-445f-ff1a-fa424eb97355"
      },
      "source": [
        "mnist = tf.keras.datasets.mnist.load_data()\n",
        "\n",
        "(X_train, y_train), (X_test, y_test) = mnist\n",
        "\n",
        "X_train = X_train/255.\n",
        "X_test = X_test/255."
      ],
      "execution_count": 2,
      "outputs": [
        {
          "output_type": "stream",
          "text": [
            "Downloading data from https://storage.googleapis.com/tensorflow/tf-keras-datasets/mnist.npz\n",
            "11493376/11490434 [==============================] - 0s 0us/step\n"
          ],
          "name": "stdout"
        }
      ]
    },
    {
      "cell_type": "code",
      "metadata": {
        "id": "vI1N7p9_uSzT",
        "colab_type": "code",
        "colab": {
          "base_uri": "https://localhost:8080/",
          "height": 281
        },
        "outputId": "7954ffab-4799-4cdd-c8d2-3cc377bf9230"
      },
      "source": [
        "m = X_train.shape[0]\n",
        "plt.imshow(X_train[10])"
      ],
      "execution_count": 3,
      "outputs": [
        {
          "output_type": "execute_result",
          "data": {
            "text/plain": [
              "<matplotlib.image.AxesImage at 0x7faeb74425c0>"
            ]
          },
          "metadata": {
            "tags": []
          },
          "execution_count": 3
        },
        {
          "output_type": "display_data",
          "data": {
            "image/png": "[encoded data removed]",
            "text/plain": [
              "<Figure size 432x288 with 1 Axes>"
            ]
          },
          "metadata": {
            "tags": [],
            "needs_background": "light"
          }
        }
      ]
    },
    {
      "cell_type": "code",
      "metadata": {
        "id": "M8FhoA1hlFzg",
        "colab_type": "code",
        "colab": {
          "base_uri": "https://localhost:8080/",
          "height": 50
        },
        "outputId": "761da8bd-f698-4e4e-b759-99e671206150"
      },
      "source": [
        "X_train = X_train.reshape(m, 28, 28, 1)  ## 28x28x1 resolution grayscale images\n",
        "X_test = X_test.reshape(10000, 28, 28, 1)\n",
        "\n",
        "print(f\"X_train shape: {X_train.shape} \\nX_test shape: {X_test.shape}\")"
      ],
      "execution_count": 4,
      "outputs": [
        {
          "output_type": "stream",
          "text": [
            "X_train shape: (60000, 28, 28, 1) \n",
            "X_test shape: (10000, 28, 28, 1)\n"
          ],
          "name": "stdout"
        }
      ]
    },
    {
      "cell_type": "code",
      "metadata": {
        "id": "y1AwUK5yqEOK",
        "colab_type": "code",
        "colab": {
          "base_uri": "https://localhost:8080/",
          "height": 33
        },
        "outputId": "5b8ae933-faaf-4f4c-deaf-f243d378c7f8"
      },
      "source": [
        "y_train.shape"
      ],
      "execution_count": 5,
      "outputs": [
        {
          "output_type": "execute_result",
          "data": {
            "text/plain": [
              "(60000,)"
            ]
          },
          "metadata": {
            "tags": []
          },
          "execution_count": 5
        }
      ]
    },
    {
      "cell_type": "code",
      "metadata": {
        "id": "aXLeB5VPlbo8",
        "colab_type": "code",
        "colab": {}
      },
      "source": [
        "model = None\n",
        "model = keras.Sequential(\n",
        "    [\n",
        "      tf.keras.layers.Conv2D(filters=32, kernel_size=(3,3), strides=(1,1),\n",
        "                             padding=\"same\", kernel_initializer=\"glorot_uniform\"),\n",
        "      tf.keras.layers.MaxPooling2D(pool_size=(2,2), strides=(1,1),\n",
        "                                   padding=\"valid\"), \n",
        "      tf.keras.layers.Activation(tf.nn.relu),\n",
        "      tf.keras.layers.Conv2D(filters=64, kernel_size=(5,5), strides=2,\n",
        "                            padding=\"same\", kernel_initializer=\"glorot_uniform\"),\n",
        "      tf.keras.layers.MaxPooling2D(pool_size=(2,2), strides=(1,1),\n",
        "                                   padding=\"valid\"), \n",
        "      tf.keras.layers.Activation(tf.nn.relu),\n",
        "      tf.keras.layers.Flatten(),\n",
        "      tf.keras.layers.Dropout(0.5),\n",
        "      tf.keras.layers.Dense(10, kernel_initializer=\"glorot_uniform\",\n",
        "                            activation=\"softmax\")\n",
        "      \n",
        "    ]\n",
        ")\n",
        "\n",
        "optimizer = keras.optimizers.Adam(learning_rate=0.001)\n",
        "model.compile(optimizer=optimizer, loss=\"sparse_categorical_crossentropy\",\n",
        "              metrics=[\"accuracy\"])"
      ],
      "execution_count": 44,
      "outputs": []
    },
    {
      "cell_type": "code",
      "metadata": {
        "id": "Y3w6jsb1qy0D",
        "colab_type": "code",
        "colab": {
          "base_uri": "https://localhost:8080/",
          "height": 351
        },
        "outputId": "88297aac-f488-41d8-b34f-a3c4b2ad0306"
      },
      "source": [
        "history = model.fit(X_train, y_train, epochs=10, validation_data=(X_test, y_test),\n",
        "                    verbose=2)"
      ],
      "execution_count": 45,
      "outputs": [
        {
          "output_type": "stream",
          "text": [
            "Epoch 1/10\n",
            "1875/1875 - 6s - loss: 0.1211 - accuracy: 0.9625 - val_loss: 0.0511 - val_accuracy: 0.9817\n",
            "Epoch 2/10\n",
            "1875/1875 - 6s - loss: 0.0496 - accuracy: 0.9845 - val_loss: 0.0335 - val_accuracy: 0.9890\n",
            "Epoch 3/10\n",
            "1875/1875 - 6s - loss: 0.0380 - accuracy: 0.9880 - val_loss: 0.0358 - val_accuracy: 0.9890\n",
            "Epoch 4/10\n",
            "1875/1875 - 6s - loss: 0.0318 - accuracy: 0.9900 - val_loss: 0.0288 - val_accuracy: 0.9908\n",
            "Epoch 5/10\n",
            "1875/1875 - 6s - loss: 0.0279 - accuracy: 0.9913 - val_loss: 0.0256 - val_accuracy: 0.9905\n",
            "Epoch 6/10\n",
            "1875/1875 - 5s - loss: 0.0238 - accuracy: 0.9924 - val_loss: 0.0263 - val_accuracy: 0.9913\n",
            "Epoch 7/10\n",
            "1875/1875 - 6s - loss: 0.0211 - accuracy: 0.9931 - val_loss: 0.0246 - val_accuracy: 0.9923\n",
            "Epoch 8/10\n",
            "1875/1875 - 5s - loss: 0.0190 - accuracy: 0.9939 - val_loss: 0.0310 - val_accuracy: 0.9915\n",
            "Epoch 9/10\n",
            "1875/1875 - 5s - loss: 0.0164 - accuracy: 0.9947 - val_loss: 0.0311 - val_accuracy: 0.9915\n",
            "Epoch 10/10\n",
            "1875/1875 - 5s - loss: 0.0169 - accuracy: 0.9944 - val_loss: 0.0301 - val_accuracy: 0.9905\n"
          ],
          "name": "stdout"
        }
      ]
    },
    {
      "cell_type": "code",
      "metadata": {
        "id": "EPqVHuqwOjoW",
        "colab_type": "code",
        "colab": {
          "base_uri": "https://localhost:8080/",
          "height": 452
        },
        "outputId": "52b7b7aa-13a9-49d8-bc62-c8394ef352d6"
      },
      "source": [
        "model.summary()"
      ],
      "execution_count": 47,
      "outputs": [
        {
          "output_type": "stream",
          "text": [
            "Model: \"sequential_6\"\n",
            "_________________________________________________________________\n",
            "Layer (type)                 Output Shape              Param #   \n",
            "=================================================================\n",
            "conv2d_14 (Conv2D)           multiple                  320       \n",
            "_________________________________________________________________\n",
            "max_pooling2d_14 (MaxPooling multiple                  0         \n",
            "_________________________________________________________________\n",
            "activation_14 (Activation)   multiple                  0         \n",
            "_________________________________________________________________\n",
            "conv2d_15 (Conv2D)           multiple                  51264     \n",
            "_________________________________________________________________\n",
            "max_pooling2d_15 (MaxPooling multiple                  0         \n",
            "_________________________________________________________________\n",
            "activation_15 (Activation)   multiple                  0         \n",
            "_________________________________________________________________\n",
            "flatten_7 (Flatten)          multiple                  0         \n",
            "_________________________________________________________________\n",
            "dropout_5 (Dropout)          multiple                  0         \n",
            "_________________________________________________________________\n",
            "dense_6 (Dense)              multiple                  108170    \n",
            "=================================================================\n",
            "Total params: 159,754\n",
            "Trainable params: 159,754\n",
            "Non-trainable params: 0\n",
            "_________________________________________________________________\n"
          ],
          "name": "stdout"
        }
      ]
    },
    {
      "cell_type": "code",
      "metadata": {
        "id": "hexdWIKxzjsS",
        "colab_type": "code",
        "colab": {
          "base_uri": "https://localhost:8080/",
          "height": 33
        },
        "outputId": "1f962ea3-dd55-47fb-bf3d-cb246ca7720b"
      },
      "source": [
        "print(history.history.keys())"
      ],
      "execution_count": 48,
      "outputs": [
        {
          "output_type": "stream",
          "text": [
            "dict_keys(['loss', 'accuracy', 'val_loss', 'val_accuracy'])\n"
          ],
          "name": "stdout"
        }
      ]
    },
    {
      "cell_type": "code",
      "metadata": {
        "id": "e5wuQfSvSPxT",
        "colab_type": "code",
        "colab": {
          "base_uri": "https://localhost:8080/",
          "height": 295
        },
        "outputId": "880f4e99-5b59-4560-a623-f2f8160fea58"
      },
      "source": [
        "plt.plot(history.history['loss'], color=\"green\")\n",
        "plt.plot(history.history['val_loss'], color=\"red\")\n",
        "plt.title('model loss')\n",
        "plt.ylabel('loss')\n",
        "plt.xlabel('epoch')\n",
        "plt.legend(['train', 'val'], loc='upper left')\n",
        "plt.show()"
      ],
      "execution_count": 49,
      "outputs": [
        {
          "output_type": "display_data",
          "data": {
            "image/png": "[encoded data removed]",
            "text/plain": [
              "<Figure size 432x288 with 1 Axes>"
            ]
          },
          "metadata": {
            "tags": [],
            "needs_background": "light"
          }
        }
      ]
    },
    {
      "cell_type": "code",
      "metadata": {
        "id": "f36DAZbfUyv3",
        "colab_type": "code",
        "colab": {}
      },
      "source": [
        ""
      ],
      "execution_count": null,
      "outputs": []
    }
  ]
}